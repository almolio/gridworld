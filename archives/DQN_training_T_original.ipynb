{
 "cells": [
  {
   "cell_type": "code",
   "execution_count": 1,
   "metadata": {},
   "outputs": [
    {
     "name": "stdout",
     "output_type": "stream",
     "text": [
      "cuda\n"
     ]
    }
   ],
   "source": [
    "import torch\n",
    "device = torch.device(\"cuda\" if torch.cuda.is_available() else \"cpu\")\n",
    "# device = \"cpu\"\n",
    "print(device)"
   ]
  },
  {
   "cell_type": "code",
   "execution_count": 2,
   "metadata": {},
   "outputs": [],
   "source": [
    "seed = 42  # TODO: set seed to allow for reproducibility of results\n",
    "\n",
    "import os\n",
    "os.environ['PYTHONHASHSEED'] = str(seed)\n",
    "\n",
    "import random\n",
    "random.seed(seed)\n",
    "\n",
    "import numpy as np\n",
    "np.random.seed(seed)\n",
    "\n",
    "import torch\n",
    "torch.manual_seed(seed)\n",
    "\n",
    "# initialize environment\n",
    "from envs.environment_t import Environment \n",
    "\n",
    "from utils.helper_fcts import display_state\n",
    "\n",
    "data_dir = os.path.join(os.path.abspath(''), 'data')\n",
    "variant = 0  # TODO: specify problem variant (0 for base variant, 1 for first extension, 2 for second extension)\n",
    "env = Environment(variant, data_dir)\n"
   ]
  },
  {
   "cell_type": "code",
   "execution_count": 3,
   "metadata": {},
   "outputs": [],
   "source": [
    "import torch\n",
    "from IPython.display import display\n",
    "from pytorch_lightning import LightningModule, Trainer\n",
    "from pytorch_lightning.loggers import CSVLogger\n",
    "from torch import Tensor, nn\n",
    "from torch.optim import Adam, Optimizer\n",
    "from torch.utils.data import DataLoader\n",
    "from torch.utils.data.dataset import IterableDataset\n",
    "import random\n",
    "import pandas as pd\n",
    "from copy import deepcopy\n",
    "from itertools import compress, chain\n",
    "from collections import namedtuple, deque\n",
    "from itertools import count\n",
    "import time \n",
    "from IPython.display import clear_output\n",
    "import matplotlib.pyplot as plt\n",
    "import math"
   ]
  },
  {
   "cell_type": "code",
   "execution_count": 4,
   "metadata": {},
   "outputs": [],
   "source": [
    "BATCH_SIZE = 64\n",
    "GAMMA = 0.5\n",
    "EPS_START = 0.999\n",
    "EPS_END = 0.05\n",
    "EPS_DECAY = 1e10\n",
    "TAU = 0.005\n",
    "LR = 1e-6\n",
    "\n",
    "\n",
    "class DQN(nn.Module):\n",
    "    '''Trying the simple network'''\n",
    "    \n",
    "    def __init__(self, obs_size:int, n_actions: int, hidden_size: int=256):\n",
    "        \n",
    "        super().__init__()\n",
    "        \n",
    "        self.net = nn.Sequential(\n",
    "            nn.Linear(obs_size, hidden_size),\n",
    "            nn.Linear(hidden_size, hidden_size),\n",
    "            nn.LeakyReLU(),\n",
    "            nn.Linear(hidden_size, n_actions),\n",
    "            )\n",
    "        \n",
    "    def forward(self, x):\n",
    "        return self.net(x.float())"
   ]
  },
  {
   "cell_type": "code",
   "execution_count": 5,
   "metadata": {},
   "outputs": [],
   "source": [
    "Transition = namedtuple('Transition',('state','action','next_state','reward'))\n",
    "# TODO: Here is probabl will give an issue regarding which information we can have \n",
    "# from the environment \n",
    "\n",
    "class ReplayMemory(object): \n",
    "    def __init__(self, capacity) -> None:\n",
    "        self.memory = deque([], maxlen=capacity)\n",
    "        \n",
    "    def push(self, *args):\n",
    "        '''Append to the buffer'''\n",
    "        self.memory.append(Transition(*args))\n",
    "        \n",
    "    def sample(self, batch_size):\n",
    "        return random.sample(self.memory, batch_size)\n",
    "    \n",
    "    def __len__(self):\n",
    "        return len(self.memory)\n",
    "    \n"
   ]
  },
  {
   "cell_type": "code",
   "execution_count": 6,
   "metadata": {},
   "outputs": [],
   "source": [
    "data_dir = os.path.join(os.path.abspath(\"\"), \"data\")\n",
    "env = Environment(0, data_dir)\n"
   ]
  },
  {
   "cell_type": "code",
   "execution_count": 7,
   "metadata": {},
   "outputs": [],
   "source": [
    "\n",
    "# Get number of actions from gym action space\n",
    "n_actions = 5\n",
    "# Get the number of state observations\n",
    "mode = \"training\"\n",
    "state = env.reset(mode)\n",
    "n_observations = len(state)\n",
    "\n",
    "policy_net = DQN(n_observations, n_actions).to(device)\n",
    "target_net = DQN(n_observations, n_actions).to(device)\n",
    "# Copy the main network to target network \n",
    "target_net.load_state_dict(policy_net.state_dict())\n",
    "\n",
    "optimizer = Adam(policy_net.parameters(), lr=LR, amsgrad=True)\n",
    "memory = ReplayMemory(200)\n",
    "\n",
    "steps_done = 0\n"
   ]
  },
  {
   "cell_type": "markdown",
   "metadata": {},
   "source": [
    "# Utils Scripts ( Visualization and WnB )\n",
    "TODO: Move this into a util scripts for us to use "
   ]
  },
  {
   "cell_type": "code",
   "execution_count": 8,
   "metadata": {},
   "outputs": [
    {
     "data": {
      "image/png": "[encoded data removed]",
      "text/plain": [
       "<Figure size 720x720 with 1 Axes>"
      ]
     },
     "metadata": {
      "needs_background": "light"
     },
     "output_type": "display_data"
    }
   ],
   "source": [
    "# TEST STATE\n",
    "# state = np.zeros([5,5])\n",
    "# state[0][2] = 3 # target\n",
    "# state[3][4] = 1 # agent\n",
    "# state[4][0] = 2 # item\n",
    "# state[2][3] = 2 # item\n",
    "# display_state(state=state, episode=1)\n",
    "\n",
    "display_state(state=env.get_state(), episode=1)\n",
    "# print(env.get_state())"
   ]
  },
  {
   "cell_type": "markdown",
   "metadata": {},
   "source": [
    "#### Weight and biases setup"
   ]
  },
  {
   "cell_type": "code",
   "execution_count": 9,
   "metadata": {},
   "outputs": [
    {
     "name": "stderr",
     "output_type": "stream",
     "text": [
      "\u001b[34m\u001b[1mwandb\u001b[0m: Currently logged in as: \u001b[33mbenoitauclair30\u001b[0m (\u001b[33mdrl_tum2023\u001b[0m). Use \u001b[1m`wandb login --relogin`\u001b[0m to force relogin\n"
     ]
    },
    {
     "data": {
      "text/html": [
       "Tracking run with wandb version 0.15.2"
      ],
      "text/plain": [
       "<IPython.core.display.HTML object>"
      ]
     },
     "metadata": {},
     "output_type": "display_data"
    },
    {
     "data": {
      "text/html": [
       "Run data is saved locally in <code>/home/benoit/Documents/00_git/drl_grid_world/wandb/run-20230508_223420-hmv871zl</code>"
      ],
      "text/plain": [
       "<IPython.core.display.HTML object>"
      ]
     },
     "metadata": {},
     "output_type": "display_data"
    },
    {
     "data": {
      "text/html": [
       "Syncing run <strong><a href='https://wandb.ai/drl_tum2023/Warehouse%20Gridworld/runs/hmv871zl' target=\"_blank\">misunderstood-universe-2</a></strong> to <a href='https://wandb.ai/drl_tum2023/Warehouse%20Gridworld' target=\"_blank\">Weights & Biases</a> (<a href='https://wandb.me/run' target=\"_blank\">docs</a>)<br/>"
      ],
      "text/plain": [
       "<IPython.core.display.HTML object>"
      ]
     },
     "metadata": {},
     "output_type": "display_data"
    },
    {
     "data": {
      "text/html": [
       " View project at <a href='https://wandb.ai/drl_tum2023/Warehouse%20Gridworld' target=\"_blank\">https://wandb.ai/drl_tum2023/Warehouse%20Gridworld</a>"
      ],
      "text/plain": [
       "<IPython.core.display.HTML object>"
      ]
     },
     "metadata": {},
     "output_type": "display_data"
    },
    {
     "data": {
      "text/html": [
       " View run at <a href='https://wandb.ai/drl_tum2023/Warehouse%20Gridworld/runs/hmv871zl' target=\"_blank\">https://wandb.ai/drl_tum2023/Warehouse%20Gridworld/runs/hmv871zl</a>"
      ],
      "text/plain": [
       "<IPython.core.display.HTML object>"
      ]
     },
     "metadata": {},
     "output_type": "display_data"
    },
    {
     "data": {
      "text/html": [
       "<button onClick=\"this.nextSibling.style.display='block';this.style.display='none';\">Display W&B run</button><iframe src='https://wandb.ai/drl_tum2023/Warehouse%20Gridworld/runs/hmv871zl?jupyter=true' style='border:none;width:100%;height:420px;display:none;'></iframe>"
      ],
      "text/plain": [
       "<wandb.sdk.wandb_run.Run at 0x7f4e8e71bb90>"
      ]
     },
     "execution_count": 9,
     "metadata": {},
     "output_type": "execute_result"
    }
   ],
   "source": [
    "import wandb\n",
    "wandb.init(\n",
    "    # set the wandb project where this run will be logged\n",
    "    project=\"Warehouse Gridworld\",\n",
    "    \n",
    "    # track hyperparameters and run metadata\n",
    "    config={\n",
    "    \"architecture\": \"DQN\",\n",
    "    \"learning_rate\": LR,\n",
    "    \"batchsize\": BATCH_SIZE,\n",
    "    \"gamma\" : GAMMA,\n",
    "    \"tau\" : TAU,\n",
    "    \"epsilon_start\" : EPS_START,\n",
    "    \"epsilon_end\": EPS_END,\n",
    "    \"epsilon_decay\" : EPS_DECAY\n",
    "    }\n",
    ")\n"
   ]
  },
  {
   "cell_type": "markdown",
   "metadata": {},
   "source": [
    "TODO: Create a new class agent and put select_action in: "
   ]
  },
  {
   "cell_type": "code",
   "execution_count": 10,
   "metadata": {},
   "outputs": [],
   "source": [
    "def select_action(state):\n",
    "    '''Action selection based on decay greedy\n",
    "    TODO: we could also implement based on epsilon-greedy\n",
    "    '''\n",
    "    global steps_done\n",
    "    sample = random.random()\n",
    "    eps_threshold = EPS_END + (EPS_START - EPS_END) * \\\n",
    "        math.exp(-1. * steps_done / EPS_DECAY)\n",
    "    steps_done += 1\n",
    "    # print(f\"{steps_done} step: threshol is {eps_threshold}\")\n",
    "    \n",
    "    if sample > eps_threshold:\n",
    "        with torch.no_grad():\n",
    "            # t.max(1) will return the largest column value of each row.\n",
    "            # second column on max result is index of where max element was\n",
    "            # found, so we pick action with the larger expected reward.\n",
    "            action_chosen = policy_net(state).max(1)[1].view(1, 1)\n",
    "            return action_chosen\n",
    "    else:\n",
    "        action_space = range(5)\n",
    "        action_chosen = torch.tensor([random.sample(action_space,1)], device=device, dtype=torch.long)\n",
    "        return action_chosen\n",
    "\n"
   ]
  },
  {
   "cell_type": "markdown",
   "metadata": {},
   "source": [
    "## Traning loop   "
   ]
  },
  {
   "cell_type": "code",
   "execution_count": 11,
   "metadata": {},
   "outputs": [],
   "source": [
    "def optimize_model(): \n",
    "    if len(memory) < BATCH_SIZE: \n",
    "        return \n",
    "    \n",
    "    # turn the transition to batch \n",
    "    transitions = memory.sample(BATCH_SIZE)\n",
    "    # print(f\" Sample Transition {transitions[15]}\")\n",
    "    batch = Transition(*zip(*transitions))\n",
    "    # print(f\" Batch for training {batch.action}\")\n",
    "    non_final_mask = torch.tensor(tuple(map(lambda s: s is not None,\n",
    "                                          batch.next_state)), device=device, dtype=torch.bool)\n",
    "    non_final_next_states = torch.cat([s for s in batch.next_state\n",
    "                                                if s is not None])\n",
    "    state_batch = torch.cat(batch.state)\n",
    "    action_batch = torch.cat(batch.action)\n",
    "    reward_batch = torch.cat(batch.reward)\n",
    "    \n",
    "    # Compute Q(s_t, a)\n",
    "    state_action_values = policy_net(state_batch).gather(1, action_batch)\n",
    "    # --> get the output of the net using the state, where an action was taken\n",
    "    # \n",
    "    \n",
    "    # Comput Vs for all nextstate \n",
    "    next_state_values = torch.zeros(BATCH_SIZE, device=device)\n",
    "    with torch.no_grad(): \n",
    "        next_state_values[non_final_mask] = target_net(non_final_next_states).max(1)[0]\n",
    "        \n",
    "    expected_state_action_values = (next_state_values * GAMMA) + reward_batch\n",
    "    \n",
    "    \n",
    "    # Compute Huber Loss \n",
    "    criterion = nn.MSELoss()\n",
    "    loss = criterion(state_action_values, expected_state_action_values.unsqueeze(1))\n",
    "    \n",
    "    # Optimize the model \n",
    "    optimizer.zero_grad()\n",
    "    loss.backward()\n",
    "    \n",
    "    # Inplace gradient clipping \n",
    "    # torch.nn.utils.clip_grad_value_(policy_net.parameters(), 100)\n",
    "    optimizer.step()\n",
    "    "
   ]
  },
  {
   "cell_type": "code",
   "execution_count": 12,
   "metadata": {},
   "outputs": [
    {
     "name": "stdout",
     "output_type": "stream",
     "text": [
      "Training Start, running on cuda\n"
     ]
    },
    {
     "name": "stderr",
     "output_type": "stream",
     "text": [
      "  0%|                                                  | 0/5000 [00:00<?, ?it/s]"
     ]
    },
    {
     "name": "stdout",
     "output_type": "stream",
     "text": [
      "Episode 0 / 5000, validation reward: -106.5\n"
     ]
    },
    {
     "name": "stderr",
     "output_type": "stream",
     "text": [
      "  0%|                                         | 12/5000 [00:10<59:56,  1.39it/s]"
     ]
    },
    {
     "ename": "KeyboardInterrupt",
     "evalue": "",
     "output_type": "error",
     "traceback": [
      "\u001b[0;31m---------------------------------------------------------------------------\u001b[0m",
      "\u001b[0;31mKeyboardInterrupt\u001b[0m                         Traceback (most recent call last)",
      "Cell \u001b[0;32mIn[12], line 51\u001b[0m\n\u001b[1;32m     47\u001b[0m memory\u001b[38;5;241m.\u001b[39mpush(state, action, next_state, reward)\n\u001b[1;32m     49\u001b[0m state \u001b[38;5;241m=\u001b[39m next_state\n\u001b[0;32m---> 51\u001b[0m optimize_model()\n\u001b[1;32m     53\u001b[0m target_net_state_dict \u001b[38;5;241m=\u001b[39m target_net\u001b[38;5;241m.\u001b[39mstate_dict()\n\u001b[1;32m     54\u001b[0m policy_net_state_dict \u001b[38;5;241m=\u001b[39m policy_net\u001b[38;5;241m.\u001b[39mstate_dict()\n",
      "Cell \u001b[0;32mIn[11], line 12\u001b[0m, in \u001b[0;36moptimize_model\u001b[0;34m()\u001b[0m\n\u001b[1;32m      9\u001b[0m \u001b[38;5;66;03m# print(f\" Batch for training {batch.action}\")\u001b[39;00m\n\u001b[1;32m     10\u001b[0m non_final_mask \u001b[38;5;241m=\u001b[39m torch\u001b[38;5;241m.\u001b[39mtensor(\u001b[38;5;28mtuple\u001b[39m(\u001b[38;5;28mmap\u001b[39m(\u001b[38;5;28;01mlambda\u001b[39;00m s: s \u001b[38;5;129;01mis\u001b[39;00m \u001b[38;5;129;01mnot\u001b[39;00m \u001b[38;5;28;01mNone\u001b[39;00m,\n\u001b[1;32m     11\u001b[0m                                       batch\u001b[38;5;241m.\u001b[39mnext_state)), device\u001b[38;5;241m=\u001b[39mdevice, dtype\u001b[38;5;241m=\u001b[39mtorch\u001b[38;5;241m.\u001b[39mbool)\n\u001b[0;32m---> 12\u001b[0m non_final_next_states \u001b[38;5;241m=\u001b[39m torch\u001b[38;5;241m.\u001b[39mcat([s \u001b[38;5;28;01mfor\u001b[39;00m s \u001b[38;5;129;01min\u001b[39;00m batch\u001b[38;5;241m.\u001b[39mnext_state\n\u001b[1;32m     13\u001b[0m                                             \u001b[38;5;28;01mif\u001b[39;00m s \u001b[38;5;129;01mis\u001b[39;00m \u001b[38;5;129;01mnot\u001b[39;00m \u001b[38;5;28;01mNone\u001b[39;00m])\n\u001b[1;32m     14\u001b[0m state_batch \u001b[38;5;241m=\u001b[39m torch\u001b[38;5;241m.\u001b[39mcat(batch\u001b[38;5;241m.\u001b[39mstate)\n\u001b[1;32m     15\u001b[0m action_batch \u001b[38;5;241m=\u001b[39m torch\u001b[38;5;241m.\u001b[39mcat(batch\u001b[38;5;241m.\u001b[39maction)\n",
      "\u001b[0;31mKeyboardInterrupt\u001b[0m: "
     ]
    }
   ],
   "source": [
    "if torch.cuda.is_available():\n",
    "    num_episodes = 5000\n",
    "else: \n",
    "    num_episodes = 50\n",
    "    \n",
    "cummulative_reward = []\n",
    "from tqdm import tqdm\n",
    "# display_state(state=env.get_state(), episode=1)\n",
    "\n",
    "print(f'Training Start, running on {device}')\n",
    "\n",
    "pbar = tqdm(total=num_episodes)\n",
    "for i_expisode in range(num_episodes):\n",
    "    # Run Validation Reward\n",
    "    if i_expisode % 100 == 0 : \n",
    "        val_rew = 0 \n",
    "        state = env.reset(\"training\")\n",
    "        state = torch.tensor(state, dtype=torch.float32, device = device).unsqueeze(0)\n",
    "        for j in range(200):  # loop over 200 steps per episode\n",
    "            act = select_action(state)  # TODO: get action for the obs from your trained policy\n",
    "            rew, next_obs, _ = env.step(act)  # take one step in the environment\n",
    "            val_rew += rew  # track rewards\n",
    "            obs = next_obs  # continue from the new obs\n",
    "        wandb.log({\n",
    "            \"val_reward\": val_rew\n",
    "        })    \n",
    "        pbar.write(f'Episode {i_expisode} / {num_episodes}, validation reward: {val_rew}')\n",
    "\n",
    "    state = env.reset(mode)\n",
    "    state = torch.tensor(state, dtype=torch.float32, device = device).unsqueeze(0)\n",
    "    \n",
    "    for t in count():\n",
    "        action = select_action(state)\n",
    "        reward, observation, done = env.step(action.item())\n",
    "        reward = torch.tensor([reward], device=device)\n",
    "        if done: \n",
    "            next_state = None\n",
    "        else: \n",
    "            # visualization\n",
    "            # clear_output(wait=True)\n",
    "            # display_state(state=env.get_state(), episode=i_expisode)\n",
    "            # time.sleep(0.4)\n",
    "            \n",
    "            next_state = torch.tensor(observation, dtype=torch.float32,device=device).unsqueeze(0)\n",
    "    \n",
    "        # store in memory \n",
    "        memory.push(state, action, next_state, reward)\n",
    "\n",
    "        state = next_state\n",
    "        \n",
    "        optimize_model()\n",
    "        \n",
    "        target_net_state_dict = target_net.state_dict()\n",
    "        policy_net_state_dict = policy_net.state_dict()\n",
    "        \n",
    "        for key in policy_net_state_dict:\n",
    "            target_net_state_dict[key] = policy_net_state_dict[key]*TAU \\\n",
    "                + target_net_state_dict[key]*(1-TAU)\n",
    "                \n",
    "        target_net.load_state_dict(target_net_state_dict)\n",
    "        \n",
    "        if done: \n",
    "            cummulative_reward.append(reward)\n",
    "            break\n",
    "    pbar.update(1)    \n",
    "\n",
    "print('complete')"
   ]
  },
  {
   "cell_type": "markdown",
   "metadata": {},
   "source": [
    "### Play the game with the final state"
   ]
  },
  {
   "cell_type": "code",
   "execution_count": null,
   "metadata": {},
   "outputs": [],
   "source": [
    "state = env.reset(\"training\")\n",
    "state = torch.tensor(state, dtype=torch.float32, device = device).unsqueeze(0)\n",
    "\n",
    "for j in range(200):  # loop over 200 steps per episode\n",
    "  \n",
    "    act = select_action(state)  # TODO: get action for the obs from your trained policy\n",
    "    rew, next_obs, _ = env.step(act)  # take one step in the environment\n",
    "    # visualization\n",
    "    clear_output(wait=True)\n",
    "    display_state(state=env.get_state(), episode=i_expisode)\n",
    "    time.sleep(0.2)\n",
    "    \n",
    "    "
   ]
  },
  {
   "cell_type": "code",
   "execution_count": null,
   "metadata": {},
   "outputs": [],
   "source": []
  }
 ],
 "metadata": {
  "kernelspec": {
   "display_name": "Python 3 (ipykernel)",
   "language": "python",
   "name": "python3"
  },
  "language_info": {
   "codemirror_mode": {
    "name": "ipython",
    "version": 3
   },
   "file_extension": ".py",
   "mimetype": "text/x-python",
   "name": "python",
   "nbconvert_exporter": "python",
   "pygments_lexer": "ipython3",
   "version": "3.11.3"
  }
 },
 "nbformat": 4,
 "nbformat_minor": 2
}
